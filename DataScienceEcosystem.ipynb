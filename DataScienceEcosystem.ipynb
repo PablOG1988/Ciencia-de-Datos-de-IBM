{
  "nbformat": 4,
  "nbformat_minor": 0,
  "metadata": {
    "colab": {
      "provenance": [],
      "authorship_tag": "ABX9TyNivnps7DE4yTZRzZtUlIYH",
      "include_colab_link": true
    },
    "kernelspec": {
      "name": "python3",
      "display_name": "Python 3"
    },
    "language_info": {
      "name": "python"
    }
  },
  "cells": [
    {
      "cell_type": "markdown",
      "metadata": {
        "id": "view-in-github",
        "colab_type": "text"
      },
      "source": [
        "<a href=\"https://colab.research.google.com/github/PablOG1988/Ciencia-de-Datos-de-IBM/blob/main/DataScienceEcosystem.ipynb\" target=\"_parent\"><img src=\"https://colab.research.google.com/assets/colab-badge.svg\" alt=\"Open In Colab\"/></a>"
      ]
    },
    {
      "cell_type": "markdown",
      "source": [
        "# Data Science Tools and Ecosystem"
      ],
      "metadata": {
        "id": "gmd_3NSccGcz"
      }
    },
    {
      "cell_type": "markdown",
      "source": [
        "In this notebook, Data Science Tools and Ecosystem are summarized. Through various exercises, we will explore key data science languages, libraries, tools, and simple arithmetic operations using Python."
      ],
      "metadata": {
        "id": "yeTM_w02cPME"
      }
    },
    {
      "cell_type": "markdown",
      "source": [
        "## Exercise 4 - Create a markdown cell to list data science languages\n",
        "Data scientists commonly use languages such as:\n",
        "\n",
        "1. Python\n",
        "2. R\n",
        "3. SQL\n",
        "4. Julia\n",
        "5. Java"
      ],
      "metadata": {
        "id": "zOiXQ_YkcZ-T"
      }
    },
    {
      "cell_type": "markdown",
      "source": [
        "## Exercise 5 - Create a markdown cell to list data science libraries\n",
        "Data scientists frequently utilize libraries such as:\n",
        "\n",
        "1. Pandas\n",
        "2. NumPy\n",
        "3. Matplotlib\n",
        "4. Scikit-learn\n",
        "5. TensorFlow"
      ],
      "metadata": {
        "id": "EQutUePYciv7"
      }
    },
    {
      "cell_type": "markdown",
      "source": [
        "## Exercise 6 - Create a markdown cell with a table of Data Science tools\n",
        "\n",
        "|**Tool**       | **Description**                                   |\n",
        "|---------------|---------------------------------------------------|\n",
        "| Jupyter       | Interactive notebooks for data analysis           |\n",
        "| RStudio       | IDE for R programming and data visualization      |\n",
        "| Apache Spark  | Distributed data processing system                |\n",
        "| TensorFlow    | Open-source library for machine learning          |\n",
        "| SQL           | Language for database management and queries      |\n",
        "| MATLAB        | Tool for numerical computing and data visualization |\n",
        "| Tableau       | Visualization software for creating dashboards    |\n",
        "| RapidMiner    | Data science and machine learning platform        |\n",
        "| Excel         | Spreadsheet software for data analysis            |"
      ],
      "metadata": {
        "id": "5iHGoiFKdJBt"
      }
    },
    {
      "cell_type": "markdown",
      "source": [
        "## Exercise 7 - Create a markdown cell introducing arithmetic expression examples\n",
        "\n",
        "In data science and programming, arithmetic expressions allow us to perform calculations essential for data manipulation and analysis. Here are some examples of basic and advanced arithmetic operations:\n",
        "\n",
        "1. **Addition:** `5 + 4 = 9`\n",
        "   \n",
        "2. **Subtraction:** `10 - 5 = 5`\n",
        "   \n",
        "3. **Multiplication:** `3 * 6 = 18`\n",
        "   \n",
        "4. **Division:** `15 / 3 = 5`\n",
        "   \n",
        "5. **Exponentiation:** `2 ** 4 = 16`\n",
        "\n",
        "6. **Parentheses and mixed operations:** `(3 * 3) + 5 = 14`\n",
        "\n",
        "7. **Mixed operations with exponents and division:**  \n",
        "   `2 ** 3 / 4 + 5 = 7.0`\n",
        "\n",
        "8. **Parentheses with nested operations:**  \n",
        "   `(5 + (3 * 4)) - 2 = 15`\n",
        "\n",
        "9. **Exponentiation and square roots:**  \n",
        "   `16 ** (1/2) = 4.0` (Square root of 16)\n",
        "\n",
        "10. **Compound expression with multiple operations:**  \n",
        "   `(3 * 4) + (5 ** 2) - (18 / 3) = 31.0`"
      ],
      "metadata": {
        "id": "dIfbLyCsd_OV"
      }
    },
    {
      "cell_type": "markdown",
      "source": [
        "## Exercise 8 - Create a code cell to multiply and add numbers"
      ],
      "metadata": {
        "id": "sSZwErjaessO"
      }
    },
    {
      "cell_type": "code",
      "source": [
        "# This is a basic arithmetic expression that first multiplies and then adds integers\n",
        "(3 * 4) + 5"
      ],
      "metadata": {
        "colab": {
          "base_uri": "https://localhost:8080/"
        },
        "id": "BlAxsZN8evDl",
        "outputId": "d089bd89-b01a-44af-9bbb-9fcf4edfb09e"
      },
      "execution_count": 16,
      "outputs": [
        {
          "output_type": "execute_result",
          "data": {
            "text/plain": [
              "17"
            ]
          },
          "metadata": {},
          "execution_count": 16
        }
      ]
    },
    {
      "cell_type": "markdown",
      "source": [
        "## Exercise 9 - Create a code cell to convert minutes to hours\n"
      ],
      "metadata": {
        "id": "piixba6_g25k"
      }
    },
    {
      "cell_type": "code",
      "source": [
        "# Conversion from minutes to hours\n",
        "minutes = 30\n",
        "# Convert minutes to hours\n",
        "hours = minutes / 60\n",
        "# Display the result\n",
        "print(f\"{minutes} minutes is equal to {hours} hours.\")"
      ],
      "metadata": {
        "colab": {
          "base_uri": "https://localhost:8080/"
        },
        "id": "zvBZPmtkg4g8",
        "outputId": "033bc2eb-78de-48cf-d16b-b06c3942555c"
      },
      "execution_count": 19,
      "outputs": [
        {
          "output_type": "stream",
          "name": "stdout",
          "text": [
            "30 minutes is equal to 0.5 hours.\n"
          ]
        }
      ]
    },
    {
      "cell_type": "markdown",
      "source": [
        "## Exercise 10 - Insert a markdown cell to list Objectives"
      ],
      "metadata": {
        "id": "5roT9dszhte8"
      }
    },
    {
      "cell_type": "markdown",
      "source": [
        "**Objectives:**\n",
        "\n",
        "- Identify widely used programming languages in Data Science\n",
        "- Recognize commonly utilized libraries within the Data Science field\n",
        "- Examine various open-source tools applicable to Data Science\n",
        "- Perform fundamental arithmetic operations in Python\n",
        "- Develop an understanding of unit conversion processes in Python (e.g., converting minutes to hours)"
      ],
      "metadata": {
        "id": "DtBPea4gh5ql"
      }
    },
    {
      "cell_type": "markdown",
      "source": [
        "## Exercise 11 - Create a markdown cell to indicate the Author's name"
      ],
      "metadata": {
        "id": "nrQ6Augnh9K8"
      }
    },
    {
      "cell_type": "markdown",
      "source": [
        "## Author\n",
        "\n",
        "Pablo Felipe Opazo Gutierrez"
      ],
      "metadata": {
        "id": "-QxjSYfKiBXm"
      }
    }
  ]
}